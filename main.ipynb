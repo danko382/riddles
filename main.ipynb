{
 "cells": [
  {
   "cell_type": "code",
   "execution_count": 1,
   "metadata": {},
   "outputs": [
    {
     "ename": "KeyboardInterrupt",
     "evalue": "",
     "output_type": "error",
     "traceback": [
      "\u001b[1;31m---------------------------------------------------------------------------\u001b[0m",
      "\u001b[1;31mKeyboardInterrupt\u001b[0m                         Traceback (most recent call last)",
      "Cell \u001b[1;32mIn[1], line 15\u001b[0m\n\u001b[0;32m     13\u001b[0m                                         \u001b[39mfor\u001b[39;00m x11 \u001b[39min\u001b[39;00m \u001b[39mrange\u001b[39m (\u001b[39m1\u001b[39m,\u001b[39m7\u001b[39m):\n\u001b[0;32m     14\u001b[0m                                             \u001b[39mfor\u001b[39;00m x12 \u001b[39min\u001b[39;00m \u001b[39mrange\u001b[39m (\u001b[39m1\u001b[39m,\u001b[39m7\u001b[39m):\n\u001b[1;32m---> 15\u001b[0m                                                 \u001b[39msum\u001b[39m\u001b[39m.\u001b[39madd(x1 \u001b[39m+\u001b[39m x2 \u001b[39m+\u001b[39m x3 \u001b[39m+\u001b[39m x4 \u001b[39m+\u001b[39m x5 \u001b[39m+\u001b[39m x6 \u001b[39m+\u001b[39m x7 \u001b[39m+\u001b[39m x8 \u001b[39m+\u001b[39m x9 \u001b[39m+\u001b[39m x10 \u001b[39m+\u001b[39m x11 \u001b[39m+\u001b[39m x12)\n\u001b[0;32m     16\u001b[0m \u001b[39mprint\u001b[39m(\u001b[39mlen\u001b[39m(\u001b[39msum\u001b[39m))                                                \n",
      "\u001b[1;31mKeyboardInterrupt\u001b[0m: "
     ]
    }
   ],
   "source": [
    "sum = set()\n",
    "\n",
    "for x1 in range(1, 7):\n",
    "    for x2 in range(1, 7):\n",
    "        for x3 in range(1, 7):\n",
    "            for x4 in range(1, 7):\n",
    "                sum.add(x1 + x2 + x3 + x4)\n",
    "print(len(sum))                                                "
   ]
  }
 ],
 "metadata": {
  "kernelspec": {
   "display_name": "Python 3",
   "language": "python",
   "name": "python3"
  },
  "language_info": {
   "codemirror_mode": {
    "name": "ipython",
    "version": 3
   },
   "file_extension": ".py",
   "mimetype": "text/x-python",
   "name": "python",
   "nbconvert_exporter": "python",
   "pygments_lexer": "ipython3",
   "version": "3.11.1"
  },
  "orig_nbformat": 4
 },
 "nbformat": 4,
 "nbformat_minor": 2
}
